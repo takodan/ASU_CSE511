{
 "cells": [
  {
   "cell_type": "code",
   "execution_count": 1,
   "metadata": {
    "collapsed": true
   },
   "outputs": [],
   "source": [
    "from unqlite import UnQLite\n",
    "\n",
    "db = UnQLite('sample.db')\n",
    "data = db.collection('data')"
   ]
  },
  {
   "cell_type": "code",
   "execution_count": 8,
   "metadata": {
    "collapsed": true
   },
   "outputs": [],
   "source": [
    "# Graded Cell, PartID: o1flK\n",
    "\n",
    "def FindBusinessBasedOnCity(cityToSearch, saveLocation1, collection):\n",
    "    # list to store result\n",
    "    result_list = []\n",
    "\n",
    "    # data structure\n",
    "    # print(collection.all()[0])\n",
    "    # {'business_id': 'MPyxaNVuWlAQqJ0iKV5rQw',\n",
    "    #  'type': 'business', 'state': 'AZ', 'latitude': 33.3482589,\n",
    "    #  'name': \"VinciTorio's Restaurant\", 'full_address': '1835 E Elliot Rd, Ste C109, Tempe, AZ 85284',\n",
    "    #  'categories': ['Restaurants', 'Buffets', 'Italian'], 'open': True, 'stars': 4,\n",
    "    #  'city': 'Tempe', 'neighborhoods': [], '__id': 0, 'review_count': 122, 'longitude': -111.9088346}\n",
    "    \n",
    "    # true_results:\n",
    "    # 'name'\n",
    "    # 'full_address'\n",
    "    # 'city'\n",
    "    # 'state'\n",
    "\n",
    "    # iterate through collection\n",
    "    for business in collection.all():\n",
    "        # extract relevant fields\n",
    "        name = business.get('name')\n",
    "        full_address = business.get('full_address')\n",
    "        city = business.get('city')\n",
    "        state = business.get('state')\n",
    "        \n",
    "        # check if city == cityToSearch\n",
    "        if city == cityToSearch:\n",
    "            # format result\n",
    "            result_list.append(f\"{name}${full_address}${city}${state}\")\n",
    "    \n",
    "    # save results to saveLocation1\n",
    "    with open(saveLocation1, 'w') as file:\n",
    "        for business in result_list:\n",
    "            file.write(business + '\\n')\n",
    "    \n",
    "    # return the result_list\n",
    "    return result_list\n",
    "\n",
    "import math\n",
    "\n",
    "def DistanceFunction(lat1, lon1, lat2, lon2):\n",
    "    # radius in miles\n",
    "    R = 3959.0\n",
    "    \n",
    "    # latitude and longitude to radians\n",
    "    lat1 = math.radians(lat1)\n",
    "    lon1 = math.radians(lon1)\n",
    "    lat2 = math.radians(lat2)\n",
    "    lon2 = math.radians(lon2)\n",
    "    \n",
    "    # differences between latitudes and longitudes\n",
    "    dlat = lat2 - lat1\n",
    "    dlon = lon2 - lon1\n",
    "    \n",
    "    # distance function\n",
    "    a = math.sin(dlat / 2)**2 + math.cos(lat1) * math.cos(lat2) * math.sin(dlon / 2)**2\n",
    "    c = 2 * math.atan2(math.sqrt(a), math.sqrt(1 - a))\n",
    "    \n",
    "    # distance in miles\n",
    "    distance = R * c\n",
    "    return distance\n",
    "\n",
    "def FindBusinessBasedOnLocation(categoriesToSearch, myLocation, maxDistance, saveLocation2, collection):\n",
    "    # print(categoriesToSearch)\n",
    "    # ['Buffets']\n",
    "    # print(myLocation)\n",
    "    # [33.3482589, -111.9088346]\n",
    "    my_lat, my_lon = myLocation\n",
    "    # list to store result\n",
    "    result_list = []\n",
    "    \n",
    "    # iterate through collection\n",
    "    for business in collection.all():\n",
    "        # extract relevant fields\n",
    "        name = business.get('name')\n",
    "        latitude = business.get('latitude')\n",
    "        longitude = business.get('longitude')\n",
    "        categories = business.get('categories', [])\n",
    "        \n",
    "        # check if the business category in the categoriesToSearch\n",
    "        if any(category in categories for category in categoriesToSearch):\n",
    "            # calculate the distance from myLocation to the business location\n",
    "            distance = DistanceFunction(my_lat, my_lon, latitude, longitude)\n",
    "            \n",
    "            # check if the business is within the maxDistance\n",
    "            if distance <= maxDistance:\n",
    "                result_list.append(name)\n",
    "    \n",
    "    # save results to saveLocation2\n",
    "    with open(saveLocation2, 'w') as file:\n",
    "        for business_name in result_list:\n",
    "            file.write(business_name + '\\n')\n",
    "    \n",
    "    # return the result_list\n",
    "    return result_list"
   ]
  },
  {
   "cell_type": "code",
   "execution_count": 9,
   "metadata": {},
   "outputs": [
    {
     "name": "stdout",
     "output_type": "stream",
     "text": [
      "Correct! You FindBusinessByCity function passes these test cases. This does not cover all possible test edge cases, however, so make sure that your function covers them before submitting!\n"
     ]
    }
   ],
   "source": [
    "true_results = [\"VinciTorio's Restaurant$1835 E Elliot Rd, Ste C109, Tempe, AZ 85284$Tempe$AZ\", \"P.croissants$7520 S Rural Rd, Tempe, AZ 85283$Tempe$AZ\", \"Salt Creek Home$1725 W Ruby Dr, Tempe, AZ 85284$Tempe$AZ\"]\n",
    "\n",
    "try:\n",
    "    FindBusinessBasedOnCity('Tempe', 'output_city.txt', data)\n",
    "except NameError as e:\n",
    "    print ('The FindBusinessBasedOnCity function is not defined! You must run the cell containing the function before running this evaluation cell.')\n",
    "except TypeError as e:\n",
    "    print (\"The FindBusinessBasedOnCity function is supposed to accept three arguments. Yours does not!\")\n",
    "    \n",
    "try:\n",
    "    opf = open('output_city.txt', 'r')\n",
    "except FileNotFoundError as e:\n",
    "    print (\"The FindBusinessBasedOnCity function does not write data to the correct location.\")\n",
    "    \n",
    "lines = opf.readlines()\n",
    "if len(lines) != 3:\n",
    "    print (\"The FindBusinessBasedOnCity function does not find the correct number of results, should be 3.\")\n",
    "    \n",
    "lines = [line.strip() for line in lines]\n",
    "if sorted(lines) == sorted(true_results):\n",
    "    print (\"Correct! You FindBusinessByCity function passes these test cases. This does not cover all possible test edge cases, however, so make sure that your function covers them before submitting!\")"
   ]
  },
  {
   "cell_type": "code",
   "execution_count": 10,
   "metadata": {},
   "outputs": [
    {
     "name": "stdout",
     "output_type": "stream",
     "text": [
      "Correct! Your FindBusinessBasedOnLocation function passes these test cases. This does not cover all possible edge cases, so make sure your function does before submitting.\n"
     ]
    }
   ],
   "source": [
    "true_results = [\"VinciTorio's Restaurant\"]\n",
    "\n",
    "try:\n",
    "    FindBusinessBasedOnLocation(['Buffets'], [33.3482589, -111.9088346], 10, 'output_loc.txt', data)\n",
    "except NameError as e: \n",
    "    print ('The FindBusinessBasedOnLocation function is not defined! You must run the cell containing the function before running this evaluation cell.')\n",
    "except TypeError as e:\n",
    "    print (\"The FindBusinessBasedOnLocation function is supposed to accept five arguments. Yours does not!\")\n",
    "    \n",
    "try:\n",
    "    opf = open('output_loc.txt','r')\n",
    "except FileNotFoundError as e:\n",
    "    print (\"The FindBusinessBasedOnLocation function does not write data to the correct location.\")\n",
    "\n",
    "lines = opf.readlines()\n",
    "if len(lines) != 1:\n",
    "    print (\"The FindBusinessBasedOnLocation function does not find the correct number of results, should be only 1.\")\n",
    "\n",
    "if lines[0].strip() == true_results[0]:\n",
    "    print (\"Correct! Your FindBusinessBasedOnLocation function passes these test cases. This does not cover all possible edge cases, so make sure your function does before submitting.\")"
   ]
  }
 ],
 "metadata": {
  "kernelspec": {
   "display_name": ".venv",
   "language": "python",
   "name": "python3"
  },
  "language_info": {
   "codemirror_mode": {
    "name": "ipython",
    "version": 3
   },
   "file_extension": ".py",
   "mimetype": "text/x-python",
   "name": "python",
   "nbconvert_exporter": "python",
   "pygments_lexer": "ipython3",
   "version": "3.10.11"
  }
 },
 "nbformat": 4,
 "nbformat_minor": 2
}
